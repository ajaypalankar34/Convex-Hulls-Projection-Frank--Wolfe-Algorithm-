{
 "cells": [
  {
   "cell_type": "code",
   "execution_count": 96,
   "metadata": {},
   "outputs": [
    {
     "ename": "SyntaxError",
     "evalue": "unexpected EOF while parsing (<ipython-input-96-47d75ecd1db3>, line 12)",
     "output_type": "error",
     "traceback": [
      "\u001b[1;36m  File \u001b[1;32m\"<ipython-input-96-47d75ecd1db3>\"\u001b[1;36m, line \u001b[1;32m12\u001b[0m\n\u001b[1;33m    return ((0.5)(q - sum([val for val in (gamma * x)])**2)\u001b[0m\n\u001b[1;37m                                                           ^\u001b[0m\n\u001b[1;31mSyntaxError\u001b[0m\u001b[1;31m:\u001b[0m unexpected EOF while parsing\n"
     ]
    }
   ],
   "source": [
    "#Problem 2.1 \n",
    "def f(x):\n",
    "    M = 1000\n",
    "    q = 0.05\n",
    "    iterations = 100\n",
    "    gamma = (1/ (1 + iterations))\n",
    "\n",
    "\n",
    "    \n",
    "    for m in range(iterations):\n",
    "        \n",
    "        return ((0.5)(q - sum([val for val in (gamma * x)])**2)"
   ]
  },
  {
   "cell_type": "code",
   "execution_count": 97,
   "metadata": {},
   "outputs": [],
   "source": [
    "def get_gradient(x):\n",
    "    \n",
    "    q = 0.05 \n",
    "    gamma = (1/ (1 + iterations))\n",
    "    gradient = [0]\n",
    "    gradient[0] = (-gamma/2)\n",
    "    return np.array(gradient)"
   ]
  },
  {
   "cell_type": "code",
   "execution_count": 98,
   "metadata": {},
   "outputs": [],
   "source": [
    "def get_s(x):\n",
    "\n",
    "    gradient = get_gradient(x)\n",
    "    M = gradient.shape[0]\n",
    "    l = 0\n",
    "    u = 1\n",
    "    A_ub = np.ones([1,M])\n",
    "    b_ub = np.ones([1,1])\n",
    "    s_t = optimize.linprog(c = gradient, bounds = [l,u], A_ub = A_ub,b_ub = b_ub)\n",
    "\n",
    "    return s_t.x"
   ]
  },
  {
   "cell_type": "code",
   "execution_count": 99,
   "metadata": {},
   "outputs": [],
   "source": [
    "def Frank_Wolf(initial_point,iterations):\n",
    "    [x] = initial_point\n",
    "    iterations = 100\n",
    "    for iteration in range(1,iterations):\n",
    "\n",
    "        gamma = (1/ (1 + iterations))\n",
    "\n",
    "\n",
    "    s_t = get_s(x)\n",
    "\n",
    "    x = x + gamma * (s_t[0] - x)\n",
    "    #y = y + gamma * (s_t[1] - y)\n",
    "\n",
    "    return [x]"
   ]
  },
  {
   "cell_type": "code",
   "execution_count": 100,
   "metadata": {},
   "outputs": [
    {
     "name": "stdout",
     "output_type": "stream",
     "text": [
      "[0.10891089108910892]\n"
     ]
    }
   ],
   "source": [
    "import numpy as np\n",
    "from scipy import optimize\n",
    "initial_point = np.array([0.1])\n",
    "iterations = 100\n",
    "gamma = (1/ (1 + iterations))\n",
    "q = 0.05\n",
    "[x] = Frank_Wolf(initial_point,100)\n",
    "print([x])"
   ]
  }
 ],
 "metadata": {
  "kernelspec": {
   "display_name": "Python 3",
   "language": "python",
   "name": "python3"
  },
  "language_info": {
   "codemirror_mode": {
    "name": "ipython",
    "version": 3
   },
   "file_extension": ".py",
   "mimetype": "text/x-python",
   "name": "python",
   "nbconvert_exporter": "python",
   "pygments_lexer": "ipython3",
   "version": "3.7.6"
  }
 },
 "nbformat": 4,
 "nbformat_minor": 4
}
