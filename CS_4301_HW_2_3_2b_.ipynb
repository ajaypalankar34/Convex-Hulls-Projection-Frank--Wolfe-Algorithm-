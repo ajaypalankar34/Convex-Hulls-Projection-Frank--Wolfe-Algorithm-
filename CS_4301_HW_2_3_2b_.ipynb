{
 "cells": [
  {
   "cell_type": "code",
   "execution_count": 32,
   "metadata": {
    "id": "aEWuY3ToPj5f"
   },
   "outputs": [],
   "source": [
    "# Problem 3.2 b \n",
    "def argmax(w):\n",
    "  max = 0\n",
    "  j_star = [-1]\n",
    "  for j in range(M):\n",
    "    if np.linalg.norm(x[j] - w) > max:\n",
    "      max =  np.linalg.norm(x[j] - w)\n",
    "      j_star = [j]\n",
    "    if np.linalg.norm(x[j] - w) == max:\n",
    "      j_star.append(j)\n",
    "\n",
    "  return j_star"
   ]
  },
  {
   "cell_type": "code",
   "execution_count": 33,
   "metadata": {
    "id": "oqiQq_ghPna2"
   },
   "outputs": [],
   "source": [
    "def get_gradient(w):\n",
    "  j_star = argmax(w)[0]\n",
    "\n",
    "  gradient = np.zeros(w.shape[0])\n",
    "  for i in range(gradient.shape[0]):\n",
    "    gradient[i] = -2 * (x[j_star][i] - w[i])\n",
    "\n",
    "  return gradient"
   ]
  },
  {
   "cell_type": "code",
   "execution_count": 34,
   "metadata": {
    "id": "zngQwlSOPp4t"
   },
   "outputs": [],
   "source": [
    "def gradient_descent(initial_point,iterations):\n",
    "  w = initial_point\n",
    "\n",
    "  for iteration in range(1,iterations+1):\n",
    "    gamma = 2 / (2 + iteration)\n",
    "    gradient = get_gradient(w)\n",
    "    w = w - gamma * gradient\n",
    "\n",
    "  return c"
   ]
  },
  {
   "cell_type": "code",
   "execution_count": 35,
   "metadata": {
    "colab": {
     "base_uri": "https://localhost:8080/",
     "height": 101
    },
    "id": "WahogPs2Pry8",
    "outputId": "70965449-42e9-4b23-d446-748b00473de8"
   },
   "outputs": [
    {
     "name": "stdout",
     "output_type": "stream",
     "text": [
      "[2.47014701 3.47014701]\n",
      "[[1 2]\n",
      " [2 3]\n",
      " [3 4]\n",
      " [4 5]]\n"
     ]
    }
   ],
   "source": [
    "import numpy as np\n",
    "\n",
    "initial_point = np.array([-1,-1])\n",
    "\n",
    "x = np.array([[1,2],[2,3],[3,4],[4,5]])\n",
    "M = x.shape[0]\n",
    "\n",
    "w = gradient_descent(initial_point,100)\n",
    "print(w)\n",
    "print(x)"
   ]
  },
  {
   "cell_type": "code",
   "execution_count": 31,
   "metadata": {
    "id": "bv6R_Y9bPt-j"
   },
   "outputs": [],
   "source": []
  }
 ],
 "metadata": {
  "colab": {
   "name": "CS 4301 HW#2 3.2b .ipynb",
   "provenance": []
  },
  "kernelspec": {
   "display_name": "Python 3",
   "language": "python",
   "name": "python3"
  },
  "language_info": {
   "codemirror_mode": {
    "name": "ipython",
    "version": 3
   },
   "file_extension": ".py",
   "mimetype": "text/x-python",
   "name": "python",
   "nbconvert_exporter": "python",
   "pygments_lexer": "ipython3",
   "version": "3.7.6"
  }
 },
 "nbformat": 4,
 "nbformat_minor": 1
}
